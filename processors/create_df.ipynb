{
 "metadata": {
  "language_info": {
   "codemirror_mode": {
    "name": "ipython",
    "version": 3
   },
   "file_extension": ".py",
   "mimetype": "text/x-python",
   "name": "python",
   "nbconvert_exporter": "python",
   "pygments_lexer": "ipython3",
   "version": "3.7.4"
  },
  "orig_nbformat": 2,
  "kernelspec": {
   "name": "python3",
   "display_name": "Python 3"
  }
 },
 "nbformat": 4,
 "nbformat_minor": 2,
 "cells": [
  {
   "cell_type": "code",
   "execution_count": 2,
   "metadata": {},
   "outputs": [],
   "source": [
    "import pandas as pd "
   ]
  },
  {
   "cell_type": "code",
   "execution_count": 4,
   "metadata": {},
   "outputs": [],
   "source": [
    "df = pd.read_json('search_output.jsonl')"
   ]
  },
  {
   "cell_type": "code",
   "execution_count": 5,
   "metadata": {},
   "outputs": [
    {
     "output_type": "execute_result",
     "data": {
      "text/plain": [
       "                                                 title  \\\n",
       "0    Mini PC AMD Ryzen 7 3750H | 16 GB RAM 256 GB P...   \n",
       "1    Mini PC AMD Ryzen 3 PRO 4350G up to 4.0 GHz| 1...   \n",
       "2    Intel Core i3-10100 Desktop Processor 4 Cores ...   \n",
       "3    Intel Core i9-9900K Desktop Processor 8 Cores ...   \n",
       "4    AMD Ryzen 5 5600X 6-core, 12-Thread Unlocked D...   \n",
       "..                                                 ...   \n",
       "403  Newest HP Stream 14\" HD Laptop, Intel Celeron ...   \n",
       "404  AMD FX-8120 8-Core Black Edition Processor Soc...   \n",
       "405  TOPOSH 11.6 Inch Laptop Windows 10 Pro PC Note...   \n",
       "406  CHUWI CoreBox Windows 10 Mini PC,Intel Core i5...   \n",
       "407  Vetroo V5 CPU Air Cooler w/ 5 Heat Pipes 120mm...   \n",
       "\n",
       "                                                   url              rating  \\\n",
       "0    https://www.amazon.com/gp/slredirect/picassoRe...  4.8 out of 5 stars   \n",
       "1    https://www.amazon.com/gp/slredirect/picassoRe...  4.5 out of 5 stars   \n",
       "2    https://www.amazon.com/Intel-i3-10100-Desktop-...  4.8 out of 5 stars   \n",
       "3    https://www.amazon.com/Intel-i9-9900K-Processo...  4.8 out of 5 stars   \n",
       "4    https://www.amazon.com/AMD-Ryzen-5600X-12-Thre...  4.8 out of 5 stars   \n",
       "..                                                 ...                 ...   \n",
       "403  https://www.amazon.com/HP-Laptop-Celeron-Proce...  4.2 out of 5 stars   \n",
       "404  https://www.amazon.com/AMD-FX-8120-8-Core-Proc...  4.3 out of 5 stars   \n",
       "405  https://www.amazon.com/TOPOSH-Notebook-Compute...                None   \n",
       "406  https://www.amazon.com/gp/slredirect/picassoRe...  4.1 out of 5 stars   \n",
       "407  https://www.amazon.com/gp/slredirect/picassoRe...  4.5 out of 5 stars   \n",
       "\n",
       "    review_count    price  \n",
       "0             42  $577.99  \n",
       "1              2  $659.99  \n",
       "2          1,463  $189.00  \n",
       "3            904     None  \n",
       "4          3,598     None  \n",
       "..           ...      ...  \n",
       "403           33  $265.00  \n",
       "404          272     None  \n",
       "405         None  $299.99  \n",
       "406          296  $299.00  \n",
       "407        1,295   $29.99  \n",
       "\n",
       "[408 rows x 5 columns]"
      ],
      "text/html": "<div>\n<style scoped>\n    .dataframe tbody tr th:only-of-type {\n        vertical-align: middle;\n    }\n\n    .dataframe tbody tr th {\n        vertical-align: top;\n    }\n\n    .dataframe thead th {\n        text-align: right;\n    }\n</style>\n<table border=\"1\" class=\"dataframe\">\n  <thead>\n    <tr style=\"text-align: right;\">\n      <th></th>\n      <th>title</th>\n      <th>url</th>\n      <th>rating</th>\n      <th>review_count</th>\n      <th>price</th>\n    </tr>\n  </thead>\n  <tbody>\n    <tr>\n      <th>0</th>\n      <td>Mini PC AMD Ryzen 7 3750H | 16 GB RAM 256 GB P...</td>\n      <td>https://www.amazon.com/gp/slredirect/picassoRe...</td>\n      <td>4.8 out of 5 stars</td>\n      <td>42</td>\n      <td>$577.99</td>\n    </tr>\n    <tr>\n      <th>1</th>\n      <td>Mini PC AMD Ryzen 3 PRO 4350G up to 4.0 GHz| 1...</td>\n      <td>https://www.amazon.com/gp/slredirect/picassoRe...</td>\n      <td>4.5 out of 5 stars</td>\n      <td>2</td>\n      <td>$659.99</td>\n    </tr>\n    <tr>\n      <th>2</th>\n      <td>Intel Core i3-10100 Desktop Processor 4 Cores ...</td>\n      <td>https://www.amazon.com/Intel-i3-10100-Desktop-...</td>\n      <td>4.8 out of 5 stars</td>\n      <td>1,463</td>\n      <td>$189.00</td>\n    </tr>\n    <tr>\n      <th>3</th>\n      <td>Intel Core i9-9900K Desktop Processor 8 Cores ...</td>\n      <td>https://www.amazon.com/Intel-i9-9900K-Processo...</td>\n      <td>4.8 out of 5 stars</td>\n      <td>904</td>\n      <td>None</td>\n    </tr>\n    <tr>\n      <th>4</th>\n      <td>AMD Ryzen 5 5600X 6-core, 12-Thread Unlocked D...</td>\n      <td>https://www.amazon.com/AMD-Ryzen-5600X-12-Thre...</td>\n      <td>4.8 out of 5 stars</td>\n      <td>3,598</td>\n      <td>None</td>\n    </tr>\n    <tr>\n      <th>...</th>\n      <td>...</td>\n      <td>...</td>\n      <td>...</td>\n      <td>...</td>\n      <td>...</td>\n    </tr>\n    <tr>\n      <th>403</th>\n      <td>Newest HP Stream 14\" HD Laptop, Intel Celeron ...</td>\n      <td>https://www.amazon.com/HP-Laptop-Celeron-Proce...</td>\n      <td>4.2 out of 5 stars</td>\n      <td>33</td>\n      <td>$265.00</td>\n    </tr>\n    <tr>\n      <th>404</th>\n      <td>AMD FX-8120 8-Core Black Edition Processor Soc...</td>\n      <td>https://www.amazon.com/AMD-FX-8120-8-Core-Proc...</td>\n      <td>4.3 out of 5 stars</td>\n      <td>272</td>\n      <td>None</td>\n    </tr>\n    <tr>\n      <th>405</th>\n      <td>TOPOSH 11.6 Inch Laptop Windows 10 Pro PC Note...</td>\n      <td>https://www.amazon.com/TOPOSH-Notebook-Compute...</td>\n      <td>None</td>\n      <td>None</td>\n      <td>$299.99</td>\n    </tr>\n    <tr>\n      <th>406</th>\n      <td>CHUWI CoreBox Windows 10 Mini PC,Intel Core i5...</td>\n      <td>https://www.amazon.com/gp/slredirect/picassoRe...</td>\n      <td>4.1 out of 5 stars</td>\n      <td>296</td>\n      <td>$299.00</td>\n    </tr>\n    <tr>\n      <th>407</th>\n      <td>Vetroo V5 CPU Air Cooler w/ 5 Heat Pipes 120mm...</td>\n      <td>https://www.amazon.com/gp/slredirect/picassoRe...</td>\n      <td>4.5 out of 5 stars</td>\n      <td>1,295</td>\n      <td>$29.99</td>\n    </tr>\n  </tbody>\n</table>\n<p>408 rows × 5 columns</p>\n</div>"
     },
     "metadata": {},
     "execution_count": 5
    }
   ],
   "source": [
    "df"
   ]
  },
  {
   "cell_type": "code",
   "execution_count": 8,
   "metadata": {},
   "outputs": [],
   "source": [
    "df.to_excel('summary.xlsx')"
   ]
  },
  {
   "cell_type": "code",
   "execution_count": null,
   "metadata": {},
   "outputs": [],
   "source": []
  }
 ]
}